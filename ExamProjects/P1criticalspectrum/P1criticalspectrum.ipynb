{
 "cells": [
  {
   "cell_type": "markdown",
   "id": "0237e03c-8bb1-40a5-976a-2d9a7b59bca9",
   "metadata": {},
   "source": [
    "# P1 (and B1) leakage correction\n",
    "\n",
    "In nuclear reactor analysis and core design, a traditional two-step (or multi-step) approach is typically implemented. First, neutron transport is solved using high-fidelity methods in smaller core domains (e.g., at the level of pin cells or fuel assemblies with reflective boundaries—often referred to as lattice-level calculations) to produce homogenized (spatially) and condensed (over energy) cross-section data for full-core simulators. However, the infinite systems modeled at the lattice level are typically far from criticality because, due to power shaping, a reactor core contains both more and less reactive fuel assemblies.\n",
    "\n",
    "Therefore, after producing the homogenized cross-sections, a leakage correction is often applied to condense the cross-sections with a critical spectrum. The justification for this correction is that most nuclear reactors, under normal operation, run at or near a critical state. As a result, fuel elements should experience a critical spectrum, necessitating a correction to the spectrum of the infinite and non-critical system before performing the condensation.\n",
    "\n",
    "The need for a criticality spectrum calculation, or the method to be performed is sometimes debated (see for example [a paper from K. Smith](https://www.sciencedirect.com/science/article/pii/S0149197017301609)), nevertheless there is pedagogical value to study and implement such methods.\n",
    "\n",
    "We will implement the P1 method (however the implementation is essentially the same for the B1 method). The derivation of the equations can be found in several text books (see for example [Duderstadt and Hamilton](https://deepblue.lib.umich.edu/handle/2027.42/89079) p355), and is omitted here. \n",
    "\n",
    "In this notebook, we follow the steps described by Stamm'ler and Abbate in Methods of Steady-state Reactor Physics in Nuclear Design (Chapter X), since it is so detailed and well described that the implementation becomes almost too easy.\n",
    "\n",
    "As said, the derivation is omitted here (mostly because it is hard to compete with the above mentioned excellent books) and we just introduce the P1 equations after the angular flux is separated into a spatial and an angle-energy mode, and the latter is Legendre expended up to the second term:\n",
    "\n",
    "$$\\Sigma (E)\\psi(E)\\pm iBJ(E)=\\int \\Sigma_s0(E'\\rightarrow E)\\psi(E')dE'+\\chi(E)$$\n",
    "\n",
    "$$\\pm iB\\psi(E)+3\\Sigma(E)J(E)=3\\int\\Sigma_s1(E'\\rightarrow E)J(E')dE'$$\n",
    "\n",
    "The B1 equations only slightly differ by introducing an $\\alpha(B,E)$ multiplier in the second equation's $3\\Sigma(E)J(E)$ term. The spatial solution is assumed to have $\\exp(\\pm iBz)$ shape, hence the imaginary number appears, but fear it not.\n",
    "\n",
    "To solve this system, first we convert it into multigroup formalism (simply, the energy dependence becomes group dependence and integrals become sums): \n",
    "\n",
    "$$\\Sigma_g\\psi_g-\\sum_h\\Sigma_{s0,g\\leftarrow h}\\psi_h\\pm iBJ_g=\\chi_g$$\n",
    "\n",
    "$$3\\Sigma_gJ_g-3\\sum_h\\Sigma_{s1,g\\leftarrow h}J_h=\\mp iB\\psi_g$$\n",
    "\n",
    "One can cast these into a matrix equations\n",
    "\n",
    "$$\\bar J = \\mp iB\\mathbf{D}\\bar\\psi \\quad \\text{where} \\quad D_{gh}^{-1}=3\\Sigma_g\\delta_{gh}-3\\Sigma_{s1,g\\leftarrow h}$$\n",
    "\n",
    "$$\\mathbf{A}\\bar\\psi=\\bar\\chi \\quad \\text{where} \\quad A_{gh}=\\Sigma_g\\delta_{gh}-\\Sigma_{s0,g\\leftarrow h}+B^2D_{gh}$$\n",
    "\n",
    "and the multiplication factor of the system can be obtained with\n",
    "\n",
    "$k=\\sum_g\\nu_g\\Sigma_{f,g}\\psi_g$\n",
    "\n",
    "Hence, our task is to build the matrix $\\mathbf{D}^{-1}$, invert it, then build matrix $\\mathbf{A}$ and solve for $\\bar\\psi$, then evaluate the multiplication factor $k$. With that we would obtain the infinite multiplication factor, but we are still not done. We need to iterate the spectrum until we find the critical spectrum. For the iteration we can follow the recipe from Stamm'ler and Abbate:\n",
    "\n",
    "1. Set $B^2$=0 (ie. the zero current, or no leakage case). Solve for the flux and find $k_\\infty$.\n",
    "2. Set $B^2$=0.001 if $k_\\infty>1.0$, and -0.001 otherwise. Find, the multiplication factor $k_1$.\n",
    "3. Perform an interpolation with the two evaluations of $B^2(k)$ in order to find $B^2(k=1)$.\n",
    "   - Evaluate the slope as $m=\\frac{B^2(k_1)}{\\frac{1}{k_1}-\\frac{1}{k_\\infty}}$\n",
    "4. Estimate $B^2(k=1)=B^2(k_1)+m\\cdot (1-\\frac{1}{k_1})$ \n",
    "5. Solve for the flux and find $k_2$ (or $k_i$ in subsequent iterations)\n",
    "6. Repeat step 4 and 5 while $|k_i-1|>5\\cdot 10^{-6}$. Note, the slope should not be reevaluated.\n",
    "\n",
    "So, let's get to it! We will use `numpy.linalg` for the matrix operations.\n",
    "\n",
    "First, we load the data, which is prepared in the accompanying `prepareData.ipynb` notebook."
   ]
  },
  {
   "cell_type": "code",
   "execution_count": null,
   "id": "ac27f27c-3069-48da-9563-415d08b05d10",
   "metadata": {},
   "outputs": [],
   "source": [
    "import json\n",
    "import numpy as np\n",
    "import matplotlib.pyplot as plt\n",
    "\n",
    "with open('homogenizedXS.json') as f:\n",
    "    gxs = json.load(f)\n",
    "\n",
    "NG=gxs['NG']\n",
    "Sig=np.array(gxs['Sig'])\n",
    "SigS0=np.array(gxs['SigS0']).reshape((NG,NG))\n",
    "SigS1=np.array(gxs['SigS1']).reshape((NG,NG))\n",
    "nuSigf=np.array(gxs['nuSigf'])\n",
    "Chi=np.array(gxs['Chi'])\n",
    "micro=np.array(gxs['micro'])\n",
    "b1Flx=np.array(gxs['b1Flx'])   #for benchmarking\n",
    "infFlx=np.array(gxs['infFlx']) #for benchmarking"
   ]
  },
  {
   "cell_type": "markdown",
   "id": "3ad34c3e-7222-478b-881e-099f1bda5803",
   "metadata": {},
   "source": [
    "Then, implement functions to construct the matrices."
   ]
  },
  {
   "cell_type": "code",
   "execution_count": null,
   "id": "22582f8c-937b-4dd1-9111-370465dd220f",
   "metadata": {},
   "outputs": [],
   "source": [
    "kronecker = lambda i,j : 0 if i!=j else 1\n",
    "eps=5e-6\n",
    "def makeDinv():\n",
    "    #function to create the Dinv matrix. We can use the necessary data from globals.\n",
    "    return Dinv\n",
    "\n",
    "def makeA():\n",
    "    #function to create the A matrix. We can use the necessary data from globals.\n",
    "    return A\n",
    "\n",
    "def getAlpha(B2,Sigma):\n",
    "    #The eager ones can implement the B1 method\n",
    "    pass\n",
    "    "
   ]
  },
  {
   "cell_type": "markdown",
   "id": "33c947ba-d116-4b3d-b229-98d24ed394f3",
   "metadata": {},
   "source": [
    "Finally perform the recipe given by Stamm'ler and Abbate."
   ]
  },
  {
   "cell_type": "code",
   "execution_count": null,
   "id": "5af65586-d1ba-4174-8516-18ce3bc991cb",
   "metadata": {},
   "outputs": [],
   "source": [
    "\n",
    "#make Dinv and invert with np.linalg.inv.\n",
    "#One might also visualize this matrix, since this the diffiusion coeff in the multi-group generalization of Fick's law\n",
    "\n",
    "\n",
    "#Initial guess: zero current\n",
    "B2=0.0\n",
    "#create matrix A, solve for psi with np.linalg.solve\n",
    "#keep this as the infinite flux, so we can later evaluate the ratio of the infinite and critical spectrum\n",
    "\n",
    "#evaluate k-inf\n",
    "\n",
    "print(kinf)\n",
    "\n",
    "#New guess for B2, Solve again for psi and k1\n",
    "B2 = 0.001 if kinf>1 else -0.001\n",
    "\n",
    "#evaluate the slope\n",
    "\n",
    "#iterate while we are not close to 1\n",
    "while abs(k-1)>eps:\n",
    "    #solve for psi and k\n",
    "    \n",
    "    print(k)\n",
    "\n"
   ]
  },
  {
   "cell_type": "markdown",
   "id": "6dd68a48-343c-4980-b9d4-df00f61e9aed",
   "metadata": {},
   "source": [
    "Let us visualize the ratio of the criticality (your final flux vector) and infinite spectrum (your first flux vector corresponding to $B^2=0$). Which parts increased? What is the consequence of that in terms of leakage? \n",
    "\n",
    "We use the results from Serpent2 for benchmarking. Note, that in order to make your flux ratio comparable, you need to normalize it (ie. divide with the sum)."
   ]
  },
  {
   "cell_type": "code",
   "execution_count": null,
   "id": "77f19e30-d19b-4a2a-be48-e839990bb0d5",
   "metadata": {},
   "outputs": [],
   "source": [
    "\n",
    "    plt.figure()\n",
    "    plt.title('Fundamental mode criticality spectrum calculation')\n",
    "    #your results\n",
    "    plt.semilogx(micro[:-1],b1Flx/infFlx,'m',label='Serpent2 implementation') #slight laziness and cheating with the energy variable\n",
    "    plt.xlabel('Energy (MeV)')\n",
    "    plt.ylabel('Critical spectrum / Infinite spectrum (-)')\n",
    "    plt.legend()\n",
    "    plt.tight_layout()\n",
    "    plt.show()\n"
   ]
  },
  {
   "cell_type": "markdown",
   "id": "776cfb7a-6dae-4b0f-a272-4b962f91bf50",
   "metadata": {},
   "source": [
    "## Possible further exercises\n",
    "\n",
    "- Implement the B1 correction.\n",
    "- Obtain the group-wise diffusion coefficients ($D_g=\\frac{J_g}{|B|\\psi_g}$)\n",
    "- Create data for varying boron content in the coolant (if you do not have access to Serpent2, you can use for example openMC), observe the impacts of the P1 and B1 correction on the diffusion coefficient. For this you can perform the cross section condensation to two groups first, and then investigate the fast and thermal group constants.\n",
    "\n"
   ]
  },
  {
   "cell_type": "code",
   "execution_count": null,
   "id": "22fec46e-0f99-49dd-82b4-ade9bb84ae26",
   "metadata": {},
   "outputs": [],
   "source": []
  }
 ],
 "metadata": {
  "kernelspec": {
   "display_name": "Python 3 (ipykernel)",
   "language": "python",
   "name": "python3"
  },
  "language_info": {
   "codemirror_mode": {
    "name": "ipython",
    "version": 3
   },
   "file_extension": ".py",
   "mimetype": "text/x-python",
   "name": "python",
   "nbconvert_exporter": "python",
   "pygments_lexer": "ipython3",
   "version": "3.13.1"
  }
 },
 "nbformat": 4,
 "nbformat_minor": 5
}
